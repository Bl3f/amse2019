{
 "cells": [
  {
   "cell_type": "code",
   "execution_count": 1,
   "metadata": {},
   "outputs": [],
   "source": [
    "import pandas as pd"
   ]
  },
  {
   "cell_type": "code",
   "execution_count": 2,
   "metadata": {},
   "outputs": [],
   "source": [
    "df = pd.read_csv('so_data.csv')"
   ]
  },
  {
   "cell_type": "code",
   "execution_count": 3,
   "metadata": {},
   "outputs": [
    {
     "data": {
      "text/html": [
       "<div>\n",
       "<style scoped>\n",
       "    .dataframe tbody tr th:only-of-type {\n",
       "        vertical-align: middle;\n",
       "    }\n",
       "\n",
       "    .dataframe tbody tr th {\n",
       "        vertical-align: top;\n",
       "    }\n",
       "\n",
       "    .dataframe thead th {\n",
       "        text-align: right;\n",
       "    }\n",
       "</style>\n",
       "<table border=\"1\" class=\"dataframe\">\n",
       "  <thead>\n",
       "    <tr style=\"text-align: right;\">\n",
       "      <th></th>\n",
       "      <th>Country</th>\n",
       "      <th>Employment</th>\n",
       "      <th>ConvertedSalary</th>\n",
       "      <th>LanguageWorkedWith</th>\n",
       "      <th>NumberMonitors</th>\n",
       "      <th>WakeTime</th>\n",
       "      <th>Gender</th>\n",
       "      <th>Age</th>\n",
       "      <th>_gender</th>\n",
       "      <th>_age</th>\n",
       "    </tr>\n",
       "  </thead>\n",
       "  <tbody>\n",
       "    <tr>\n",
       "      <th>0</th>\n",
       "      <td>Kenya</td>\n",
       "      <td>Employed part-time</td>\n",
       "      <td>NaN</td>\n",
       "      <td>JavaScript;Python;HTML;CSS</td>\n",
       "      <td>1</td>\n",
       "      <td>Between 5:00 - 6:00 AM</td>\n",
       "      <td>Male</td>\n",
       "      <td>25 - 34 years old</td>\n",
       "      <td>Male</td>\n",
       "      <td>34.0</td>\n",
       "    </tr>\n",
       "    <tr>\n",
       "      <th>1</th>\n",
       "      <td>United Kingdom</td>\n",
       "      <td>Employed full-time</td>\n",
       "      <td>70841.0</td>\n",
       "      <td>JavaScript;Python;Bash/Shell</td>\n",
       "      <td>2</td>\n",
       "      <td>Between 6:01 - 7:00 AM</td>\n",
       "      <td>Male</td>\n",
       "      <td>35 - 44 years old</td>\n",
       "      <td>Male</td>\n",
       "      <td>44.0</td>\n",
       "    </tr>\n",
       "    <tr>\n",
       "      <th>2</th>\n",
       "      <td>United States</td>\n",
       "      <td>Employed full-time</td>\n",
       "      <td>NaN</td>\n",
       "      <td>NaN</td>\n",
       "      <td>NaN</td>\n",
       "      <td>NaN</td>\n",
       "      <td>NaN</td>\n",
       "      <td>NaN</td>\n",
       "      <td>NaN</td>\n",
       "      <td>NaN</td>\n",
       "    </tr>\n",
       "    <tr>\n",
       "      <th>3</th>\n",
       "      <td>United States</td>\n",
       "      <td>Employed full-time</td>\n",
       "      <td>NaN</td>\n",
       "      <td>C#;JavaScript;SQL;TypeScript;HTML;CSS;Bash/Shell</td>\n",
       "      <td>2</td>\n",
       "      <td>Between 6:01 - 7:00 AM</td>\n",
       "      <td>Male</td>\n",
       "      <td>35 - 44 years old</td>\n",
       "      <td>Male</td>\n",
       "      <td>44.0</td>\n",
       "    </tr>\n",
       "    <tr>\n",
       "      <th>4</th>\n",
       "      <td>South Africa</td>\n",
       "      <td>Employed full-time</td>\n",
       "      <td>21426.0</td>\n",
       "      <td>C;C++;Java;Matlab;R;SQL;Bash/Shell</td>\n",
       "      <td>2</td>\n",
       "      <td>Before 5:00 AM</td>\n",
       "      <td>Male</td>\n",
       "      <td>18 - 24 years old</td>\n",
       "      <td>Male</td>\n",
       "      <td>24.0</td>\n",
       "    </tr>\n",
       "  </tbody>\n",
       "</table>\n",
       "</div>"
      ],
      "text/plain": [
       "          Country          Employment  ConvertedSalary  \\\n",
       "0           Kenya  Employed part-time              NaN   \n",
       "1  United Kingdom  Employed full-time          70841.0   \n",
       "2   United States  Employed full-time              NaN   \n",
       "3   United States  Employed full-time              NaN   \n",
       "4    South Africa  Employed full-time          21426.0   \n",
       "\n",
       "                                 LanguageWorkedWith NumberMonitors  \\\n",
       "0                        JavaScript;Python;HTML;CSS              1   \n",
       "1                      JavaScript;Python;Bash/Shell              2   \n",
       "2                                               NaN            NaN   \n",
       "3  C#;JavaScript;SQL;TypeScript;HTML;CSS;Bash/Shell              2   \n",
       "4                C;C++;Java;Matlab;R;SQL;Bash/Shell              2   \n",
       "\n",
       "                 WakeTime Gender                Age _gender  _age  \n",
       "0  Between 5:00 - 6:00 AM   Male  25 - 34 years old    Male  34.0  \n",
       "1  Between 6:01 - 7:00 AM   Male  35 - 44 years old    Male  44.0  \n",
       "2                     NaN    NaN                NaN     NaN   NaN  \n",
       "3  Between 6:01 - 7:00 AM   Male  35 - 44 years old    Male  44.0  \n",
       "4          Before 5:00 AM   Male  18 - 24 years old    Male  24.0  "
      ]
     },
     "execution_count": 3,
     "metadata": {},
     "output_type": "execute_result"
    }
   ],
   "source": [
    "df.head()"
   ]
  },
  {
   "cell_type": "markdown",
   "metadata": {},
   "source": [
    "### Q2. Tracer un pie chart avec la répartition des genres"
   ]
  },
  {
   "cell_type": "markdown",
   "metadata": {},
   "source": [
    "### Q3. Trouver les pays où il y a plus de femmes qui ont répondu que d'hommes"
   ]
  },
  {
   "cell_type": "markdown",
   "metadata": {},
   "source": [
    "### Q4. Afficher le genre par tranche d'age"
   ]
  },
  {
   "cell_type": "markdown",
   "metadata": {},
   "source": [
    "### Q5. Dire combien de personnes travaillent avec plus de 3 écrans"
   ]
  },
  {
   "cell_type": "markdown",
   "metadata": {},
   "source": [
    "### Q6. Trouver à quelle heure se lèvent les retraités le plus souvent"
   ]
  },
  {
   "cell_type": "markdown",
   "metadata": {},
   "source": [
    "### Q7. Tracer la courbe du salaire moyen en fonction de l'âge"
   ]
  },
  {
   "cell_type": "markdown",
   "metadata": {},
   "source": [
    "### Q8. Donner le pourcentage de personne qui font du Python"
   ]
  },
  {
   "cell_type": "code",
   "execution_count": null,
   "metadata": {},
   "outputs": [],
   "source": []
  }
 ],
 "metadata": {
  "kernelspec": {
   "display_name": "Python 3",
   "language": "python",
   "name": "python3"
  },
  "language_info": {
   "codemirror_mode": {
    "name": "ipython",
    "version": 3
   },
   "file_extension": ".py",
   "mimetype": "text/x-python",
   "name": "python",
   "nbconvert_exporter": "python",
   "pygments_lexer": "ipython3",
   "version": "3.6.6"
  }
 },
 "nbformat": 4,
 "nbformat_minor": 2
}
