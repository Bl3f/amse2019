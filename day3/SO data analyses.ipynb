{
 "cells": [
  {
   "cell_type": "code",
   "execution_count": 40,
   "metadata": {},
   "outputs": [],
   "source": [
    "import pandas as pd\n",
    "import numpy as np"
   ]
  },
  {
   "cell_type": "code",
   "execution_count": 23,
   "metadata": {},
   "outputs": [],
   "source": [
    "%matplotlib inline"
   ]
  },
  {
   "cell_type": "code",
   "execution_count": 12,
   "metadata": {},
   "outputs": [],
   "source": [
    "pd.set_option('display.max_columns', 200)"
   ]
  },
  {
   "cell_type": "code",
   "execution_count": 17,
   "metadata": {},
   "outputs": [
    {
     "name": "stderr",
     "output_type": "stream",
     "text": [
      "/Users/christophe.blefari/.virtualenvs/lab/lib/python3.6/site-packages/IPython/core/interactiveshell.py:3044: DtypeWarning: Columns (65,75,114,120,124) have mixed types. Specify dtype option on import or set low_memory=False.\n",
      "  interactivity=interactivity, compiler=compiler, result=result)\n"
     ]
    }
   ],
   "source": [
    "cols = [\n",
    "    'Country',\n",
    "    'Employment',\n",
    "    'ConvertedSalary',\n",
    "    'LanguageWorkedWith',\n",
    "    'NumberMonitors',\n",
    "    'Gender',\n",
    "    'WakeTime',\n",
    "    'Age',\n",
    "]\n",
    "\n",
    "df = pd.read_csv('survey_results_public.csv', usecols=cols)"
   ]
  },
  {
   "cell_type": "code",
   "execution_count": 174,
   "metadata": {},
   "outputs": [],
   "source": [
    "df.to_csv('so_data.csv', index=False)"
   ]
  },
  {
   "cell_type": "code",
   "execution_count": 20,
   "metadata": {},
   "outputs": [
    {
     "data": {
      "text/html": [
       "<div>\n",
       "<style scoped>\n",
       "    .dataframe tbody tr th:only-of-type {\n",
       "        vertical-align: middle;\n",
       "    }\n",
       "\n",
       "    .dataframe tbody tr th {\n",
       "        vertical-align: top;\n",
       "    }\n",
       "\n",
       "    .dataframe thead th {\n",
       "        text-align: right;\n",
       "    }\n",
       "</style>\n",
       "<table border=\"1\" class=\"dataframe\">\n",
       "  <thead>\n",
       "    <tr style=\"text-align: right;\">\n",
       "      <th></th>\n",
       "      <th>Country</th>\n",
       "      <th>Employment</th>\n",
       "      <th>ConvertedSalary</th>\n",
       "      <th>LanguageWorkedWith</th>\n",
       "      <th>NumberMonitors</th>\n",
       "      <th>WakeTime</th>\n",
       "      <th>Gender</th>\n",
       "      <th>Age</th>\n",
       "    </tr>\n",
       "  </thead>\n",
       "  <tbody>\n",
       "    <tr>\n",
       "      <th>0</th>\n",
       "      <td>Kenya</td>\n",
       "      <td>Employed part-time</td>\n",
       "      <td>NaN</td>\n",
       "      <td>JavaScript;Python;HTML;CSS</td>\n",
       "      <td>1</td>\n",
       "      <td>Between 5:00 - 6:00 AM</td>\n",
       "      <td>Male</td>\n",
       "      <td>25 - 34 years old</td>\n",
       "    </tr>\n",
       "    <tr>\n",
       "      <th>1</th>\n",
       "      <td>United Kingdom</td>\n",
       "      <td>Employed full-time</td>\n",
       "      <td>70841.0</td>\n",
       "      <td>JavaScript;Python;Bash/Shell</td>\n",
       "      <td>2</td>\n",
       "      <td>Between 6:01 - 7:00 AM</td>\n",
       "      <td>Male</td>\n",
       "      <td>35 - 44 years old</td>\n",
       "    </tr>\n",
       "    <tr>\n",
       "      <th>2</th>\n",
       "      <td>United States</td>\n",
       "      <td>Employed full-time</td>\n",
       "      <td>NaN</td>\n",
       "      <td>NaN</td>\n",
       "      <td>NaN</td>\n",
       "      <td>NaN</td>\n",
       "      <td>NaN</td>\n",
       "      <td>NaN</td>\n",
       "    </tr>\n",
       "    <tr>\n",
       "      <th>3</th>\n",
       "      <td>United States</td>\n",
       "      <td>Employed full-time</td>\n",
       "      <td>NaN</td>\n",
       "      <td>C#;JavaScript;SQL;TypeScript;HTML;CSS;Bash/Shell</td>\n",
       "      <td>2</td>\n",
       "      <td>Between 6:01 - 7:00 AM</td>\n",
       "      <td>Male</td>\n",
       "      <td>35 - 44 years old</td>\n",
       "    </tr>\n",
       "    <tr>\n",
       "      <th>4</th>\n",
       "      <td>South Africa</td>\n",
       "      <td>Employed full-time</td>\n",
       "      <td>21426.0</td>\n",
       "      <td>C;C++;Java;Matlab;R;SQL;Bash/Shell</td>\n",
       "      <td>2</td>\n",
       "      <td>Before 5:00 AM</td>\n",
       "      <td>Male</td>\n",
       "      <td>18 - 24 years old</td>\n",
       "    </tr>\n",
       "  </tbody>\n",
       "</table>\n",
       "</div>"
      ],
      "text/plain": [
       "          Country          Employment  ConvertedSalary  \\\n",
       "0           Kenya  Employed part-time              NaN   \n",
       "1  United Kingdom  Employed full-time          70841.0   \n",
       "2   United States  Employed full-time              NaN   \n",
       "3   United States  Employed full-time              NaN   \n",
       "4    South Africa  Employed full-time          21426.0   \n",
       "\n",
       "                                 LanguageWorkedWith NumberMonitors  \\\n",
       "0                        JavaScript;Python;HTML;CSS              1   \n",
       "1                      JavaScript;Python;Bash/Shell              2   \n",
       "2                                               NaN            NaN   \n",
       "3  C#;JavaScript;SQL;TypeScript;HTML;CSS;Bash/Shell              2   \n",
       "4                C;C++;Java;Matlab;R;SQL;Bash/Shell              2   \n",
       "\n",
       "                 WakeTime Gender                Age  \n",
       "0  Between 5:00 - 6:00 AM   Male  25 - 34 years old  \n",
       "1  Between 6:01 - 7:00 AM   Male  35 - 44 years old  \n",
       "2                     NaN    NaN                NaN  \n",
       "3  Between 6:01 - 7:00 AM   Male  35 - 44 years old  \n",
       "4          Before 5:00 AM   Male  18 - 24 years old  "
      ]
     },
     "execution_count": 20,
     "metadata": {},
     "output_type": "execute_result"
    }
   ],
   "source": [
    "df.head()"
   ]
  },
  {
   "cell_type": "markdown",
   "metadata": {},
   "source": [
    "### Q2. Tracer un pie chart avec la répartition des genres"
   ]
  },
  {
   "cell_type": "code",
   "execution_count": 33,
   "metadata": {},
   "outputs": [
    {
     "data": {
      "text/plain": [
       "<matplotlib.axes._subplots.AxesSubplot at 0x10ffeddd8>"
      ]
     },
     "execution_count": 33,
     "metadata": {},
     "output_type": "execute_result"
    },
    {
     "data": {
      "image/png": "[encoded data removed]",
      "text/plain": [
       "<Figure size 432x288 with 1 Axes>"
      ]
     },
     "metadata": {},
     "output_type": "display_data"
    }
   ],
   "source": [
    "df['_gender'] = df['Gender'].apply(lambda x: x if x in ['Male', 'Female'] or pd.isnull(x) else 'Other')\n",
    "\n",
    "df['_gender'].value_counts().plot(kind='pie')"
   ]
  },
  {
   "cell_type": "markdown",
   "metadata": {},
   "source": [
    "### Q3. Trouver les pays où il y a plus de femmes qui ont répondu que d'hommes"
   ]
  },
  {
   "cell_type": "code",
   "execution_count": 86,
   "metadata": {},
   "outputs": [],
   "source": [
    "total_per_country = df.groupby(['Country', '_gender']).agg({'_gender': len}).rename(columns={'_gender': 'total'})"
   ]
  },
  {
   "cell_type": "code",
   "execution_count": 102,
   "metadata": {},
   "outputs": [],
   "source": [
    "total_computed = total_per_country.reset_index().pivot_table(index='Country', columns='_gender', values='total')\n",
    "total_computed.fillna(0, inplace=True)"
   ]
  },
  {
   "cell_type": "code",
   "execution_count": 105,
   "metadata": {},
   "outputs": [
    {
     "data": {
      "text/plain": [
       "[]"
      ]
     },
     "execution_count": 105,
     "metadata": {},
     "output_type": "execute_result"
    }
   ],
   "source": [
    "list(total_computed[total_computed['Female'] > total_computed['Male']].index)"
   ]
  },
  {
   "cell_type": "code",
   "execution_count": 108,
   "metadata": {},
   "outputs": [
    {
     "data": {
      "text/plain": [
       "Country\n",
       "Malawi                                       0.333333\n",
       "Myanmar                                      0.217391\n",
       "Jamaica                                      0.181818\n",
       "Andorra                                      0.166667\n",
       "Rwanda                                       0.166667\n",
       "Fiji                                         0.166667\n",
       "Jordan                                       0.155556\n",
       "Libyan Arab Jamahiriya                       0.142857\n",
       "Maldives                                     0.142857\n",
       "Philippines                                  0.142336\n",
       "Armenia                                      0.135593\n",
       "Tunisia                                      0.130435\n",
       "Taiwan                                       0.130435\n",
       "Iraq                                         0.125000\n",
       "Malaysia                                     0.120000\n",
       "Lebanon                                      0.119403\n",
       "Saudi Arabia                                 0.119403\n",
       "The former Yugoslav Republic of Macedonia    0.114286\n",
       "Uruguay                                      0.111111\n",
       "Ethiopia                                     0.111111\n",
       "Mauritius                                    0.105263\n",
       "Other Country (Not Listed Above)             0.100000\n",
       "Argentina                                    0.100000\n",
       "Morocco                                      0.100000\n",
       "Sri Lanka                                    0.097166\n",
       "Singapore                                    0.095238\n",
       "South Korea                                  0.094118\n",
       "Paraguay                                     0.093750\n",
       "Chile                                        0.092199\n",
       "Hong Kong (S.A.R.)                           0.092199\n",
       "                                               ...   \n",
       "Montenegro                                   0.000000\n",
       "Mozambique                                   0.000000\n",
       "Namibia                                      0.000000\n",
       "Niger                                        0.000000\n",
       "Somalia                                      0.000000\n",
       "Oman                                         0.000000\n",
       "Panama                                       0.000000\n",
       "Sierra Leone                                 0.000000\n",
       "Qatar                                        0.000000\n",
       "Senegal                                      0.000000\n",
       "Liechtenstein                                0.000000\n",
       "Tajikistan                                   0.000000\n",
       "Liberia                                      0.000000\n",
       "Gambia                                       0.000000\n",
       "Dominica                                     0.000000\n",
       "Dominican Republic                           0.000000\n",
       "Eritrea                                      0.000000\n",
       "Uganda                                       0.000000\n",
       "Turkmenistan                                 0.000000\n",
       "Gabon                                        0.000000\n",
       "Grenada                                      0.000000\n",
       "Lesotho                                      0.000000\n",
       "Guyana                                       0.000000\n",
       "Honduras                                     0.000000\n",
       "Togo                                         0.000000\n",
       "Kuwait                                       0.000000\n",
       "Kyrgyzstan                                   0.000000\n",
       "Zambia                                       0.000000\n",
       "Haiti                                        0.000000\n",
       "Nauru                                             NaN\n",
       "Length: 169, dtype: float64"
      ]
     },
     "execution_count": 108,
     "metadata": {},
     "output_type": "execute_result"
    }
   ],
   "source": [
    "(total_computed['Female'] / (total_computed['Female'] + total_computed['Male'])).sort_values(ascending=False)"
   ]
  },
  {
   "cell_type": "markdown",
   "metadata": {},
   "source": [
    "### Q4. Afficher le genre par tranche d'age"
   ]
  },
  {
   "cell_type": "code",
   "execution_count": 109,
   "metadata": {},
   "outputs": [],
   "source": [
    "import seaborn as sns"
   ]
  },
  {
   "cell_type": "code",
   "execution_count": 126,
   "metadata": {},
   "outputs": [
    {
     "data": {
      "text/plain": [
       "<matplotlib.axes._subplots.AxesSubplot at 0x132de0860>"
      ]
     },
     "execution_count": 126,
     "metadata": {},
     "output_type": "execute_result"
    },
    {
     "data": {
      "image/png": "[encoded data removed]",
      "text/plain": [
       "<Figure size 1080x288 with 1 Axes>"
      ]
     },
     "metadata": {
      "needs_background": "light"
     },
     "output_type": "display_data"
    }
   ],
   "source": [
    "plt.figure(figsize=(15, 4))\n",
    "\n",
    "age_order = [\n",
    "    'Under 18 years old',\n",
    "    '18 - 24 years old',\n",
    "    '25 - 34 years old',\n",
    "    '35 - 44 years old',\n",
    "    '45 - 54 years old',\n",
    "    '55 - 64 years old',\n",
    "    '65 years or older',\n",
    "]\n",
    "\n",
    "sns.countplot(x='Age', hue='_gender', data=df, order=age_order)"
   ]
  },
  {
   "cell_type": "markdown",
   "metadata": {},
   "source": [
    "### Q5. Dire combien de personnes travaillent avec plus de 3 écrans"
   ]
  },
  {
   "cell_type": "code",
   "execution_count": 134,
   "metadata": {},
   "outputs": [
    {
     "data": {
      "text/plain": [
       "1989"
      ]
     },
     "execution_count": 134,
     "metadata": {},
     "output_type": "execute_result"
    }
   ],
   "source": [
    "counts = df['NumberMonitors'].value_counts()\n",
    "counts[counts.index > '3'].sum()"
   ]
  },
  {
   "cell_type": "markdown",
   "metadata": {},
   "source": [
    "### Q6. Trouver à quelle heure se lèvent les retraités le plus souvent"
   ]
  },
  {
   "cell_type": "code",
   "execution_count": 140,
   "metadata": {},
   "outputs": [
    {
     "data": {
      "text/plain": [
       "Between 6:01 - 7:00 AM          48\n",
       "I do not have a set schedule    41\n",
       "Between 7:01 - 8:00 AM          26\n",
       "Between 5:00 - 6:00 AM          17\n",
       "Between 8:01 - 9:00 AM          12\n",
       "Before 5:00 AM                   6\n",
       "Between 9:01 - 10:00 AM          6\n",
       "Between 10:01 - 11:00 AM         3\n",
       "After 12:01 PM                   3\n",
       "I work night shifts              2\n",
       "Between 11:01 AM - 12:00 PM      1\n",
       "Name: WakeTime, dtype: int64"
      ]
     },
     "execution_count": 140,
     "metadata": {},
     "output_type": "execute_result"
    }
   ],
   "source": [
    "df[df['Employment'] == 'Retired']['WakeTime'].value_counts()"
   ]
  },
  {
   "cell_type": "markdown",
   "metadata": {},
   "source": [
    "### Q7. Tracer la courbe du salaire moyen en fonction de l'âge"
   ]
  },
  {
   "cell_type": "code",
   "execution_count": 161,
   "metadata": {},
   "outputs": [],
   "source": [
    "age_mapping = {\n",
    "    '25 - 34 years old': 34,\n",
    "    '18 - 24 years old': 24,\n",
    "    '35 - 44 years old': 44,\n",
    "    '45 - 54 years old': 54,\n",
    "    'Under 18 years old': 18,\n",
    "    '55 - 64 years old': 64,\n",
    "    '65 years or older': 100,\n",
    "}\n",
    "\n",
    "df['_age'] = df['Age'].apply(lambda x: age_mapping[x] if pd.notnull(x) else None)\n",
    "\n",
    "salary_age = df[['ConvertedSalary', '_age']].dropna().groupby('_age')['ConvertedSalary'].mean()"
   ]
  },
  {
   "cell_type": "code",
   "execution_count": 162,
   "metadata": {},
   "outputs": [
    {
     "data": {
      "text/plain": [
       "<matplotlib.axes._subplots.AxesSubplot at 0x12bdd5780>"
      ]
     },
     "execution_count": 162,
     "metadata": {},
     "output_type": "execute_result"
    },
    {
     "data": {
      "image/png": "[encoded data removed]",
      "text/plain": [
       "<Figure size 432x288 with 1 Axes>"
      ]
     },
     "metadata": {
      "needs_background": "light"
     },
     "output_type": "display_data"
    }
   ],
   "source": [
    "salary_age.plot(kind='line', x='_age', y='ConvertedSalary')"
   ]
  },
  {
   "cell_type": "markdown",
   "metadata": {},
   "source": [
    "### Q8. Donner le pourcentage de personne qui font du Python"
   ]
  },
  {
   "cell_type": "code",
   "execution_count": 173,
   "metadata": {},
   "outputs": [
    {
     "data": {
      "text/plain": [
       "30.710636791259926"
      ]
     },
     "execution_count": 173,
     "metadata": {},
     "output_type": "execute_result"
    }
   ],
   "source": [
    "df['LanguageWorkedWith'].str.contains('Python').sum() / len(df) * 100"
   ]
  }
 ],
 "metadata": {
  "kernelspec": {
   "display_name": "Python 3",
   "language": "python",
   "name": "python3"
  },
  "language_info": {
   "codemirror_mode": {
    "name": "ipython",
    "version": 3
   },
   "file_extension": ".py",
   "mimetype": "text/x-python",
   "name": "python",
   "nbconvert_exporter": "python",
   "pygments_lexer": "ipython3",
   "version": "3.6.6"
  }
 },
 "nbformat": 4,
 "nbformat_minor": 2
}
